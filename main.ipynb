{
 "cells": [
  {
   "cell_type": "markdown",
   "metadata": {},
   "source": [
    "### Import"
   ]
  },
  {
   "cell_type": "code",
   "execution_count": null,
   "metadata": {
    "ExecuteTime": {
     "end_time": "2024-03-29T05:55:39.240376Z",
     "start_time": "2024-03-29T05:55:39.224614Z"
    }
   },
   "outputs": [],
   "source": [
    "import torch\n",
    "import shutil\n",
    "\n",
    "import utils\n",
    "import training\n",
    "import testing"
   ]
  },
  {
   "cell_type": "markdown",
   "metadata": {},
   "source": [
    "### Device"
   ]
  },
  {
   "cell_type": "code",
   "execution_count": null,
   "metadata": {
    "ExecuteTime": {
     "end_time": "2024-03-29T06:06:34.589018Z",
     "start_time": "2024-03-29T06:06:34.573347Z"
    }
   },
   "outputs": [],
   "source": [
    "device = torch.device(\"cuda\" if torch.cuda.is_available() else \"cpu\")\n",
    "\"cuda\" if torch.cuda.is_available() else \"cpu\""
   ]
  },
  {
   "cell_type": "markdown",
   "metadata": {},
   "source": [
    "### Config"
   ]
  },
  {
   "cell_type": "code",
   "execution_count": null,
   "metadata": {},
   "outputs": [],
   "source": [
    "# dir = utils.create_rec_dir()\n",
    "# print(dir)\n",
    "\n",
    "dir = \"results/2024-04-24_21-07-11\"\n",
    "config_path = dir + \"/config.ini\"\n",
    "\n",
    "# config_path = \"config.ini\"\n",
    "# shutil.copy(config_path, dir)\n",
    "config = utils.get_config(config_path)"
   ]
  },
  {
   "cell_type": "markdown",
   "metadata": {},
   "source": [
    "## Train Received Pattern Model"
   ]
  },
  {
   "cell_type": "markdown",
   "metadata": {},
   "source": [
    "### CNN"
   ]
  },
  {
   "cell_type": "code",
   "execution_count": null,
   "metadata": {},
   "outputs": [],
   "source": [
    "train_range = range(2,3)"
   ]
  },
  {
   "cell_type": "code",
   "execution_count": null,
   "metadata": {},
   "outputs": [],
   "source": [
    "for SNR_model in train_range:\n",
    "    print(f\"Train CNN Model with SNR = {SNR_model} dB\")\n",
    "    training.train_model(device, config, dir, SNR=SNR_model, model_idx=0)"
   ]
  },
  {
   "cell_type": "code",
   "execution_count": null,
   "metadata": {},
   "outputs": [],
   "source": [
    "utils.draw_loss(dir, model_idx=0, SNR_range=train_range)"
   ]
  },
  {
   "cell_type": "markdown",
   "metadata": {},
   "source": [
    "### Conditional CNN (add all layer)"
   ]
  },
  {
   "cell_type": "code",
   "execution_count": null,
   "metadata": {},
   "outputs": [],
   "source": [
    "for SNR_model in train_range:\n",
    "    print(f\"Train cALCNN Model with SNR = {SNR_model} dB\")\n",
    "    training.train_model(device, config, dir, SNR=SNR_model, model_idx=1)"
   ]
  },
  {
   "cell_type": "code",
   "execution_count": null,
   "metadata": {},
   "outputs": [],
   "source": [
    "utils.draw_loss(dir, model_idx=2, SNR_range=train_range)"
   ]
  },
  {
   "cell_type": "markdown",
   "metadata": {},
   "source": [
    "### Conditional cat_feature_CNN"
   ]
  },
  {
   "cell_type": "code",
   "execution_count": null,
   "metadata": {},
   "outputs": [],
   "source": [
    "for SNR_model in train_range:\n",
    "    print(f\"Train cCNN_cat_feature Model with SNR = {SNR_model} dB\")\n",
    "    training.train_model(device, config, dir, SNR=SNR_model, model_idx=2)"
   ]
  },
  {
   "cell_type": "code",
   "execution_count": null,
   "metadata": {},
   "outputs": [],
   "source": [
    "utils.draw_loss(dir, model_idx=2, SNR_range=train_range)"
   ]
  },
  {
   "cell_type": "markdown",
   "metadata": {},
   "source": [
    "## Test Model"
   ]
  },
  {
   "cell_type": "markdown",
   "metadata": {},
   "source": [
    "### Test CNN"
   ]
  },
  {
   "cell_type": "code",
   "execution_count": null,
   "metadata": {},
   "outputs": [],
   "source": [
    "test_range = range(2,3)"
   ]
  },
  {
   "cell_type": "code",
   "execution_count": null,
   "metadata": {},
   "outputs": [],
   "source": [
    "for SNR_model in test_range:\n",
    "    BERs = testing.test_model(device, dir, model_idx=0, SNR_model=SNR_model)"
   ]
  },
  {
   "cell_type": "markdown",
   "metadata": {},
   "source": [
    "### Test cALCNN"
   ]
  },
  {
   "cell_type": "code",
   "execution_count": null,
   "metadata": {},
   "outputs": [],
   "source": [
    "for SNR_model in test_range:\n",
    "    BERs = testing.test_model(device, dir, model_idx=1, SNR_model=SNR_model)"
   ]
  },
  {
   "cell_type": "markdown",
   "metadata": {},
   "source": [
    "### Test cCNN cat feature map"
   ]
  },
  {
   "cell_type": "code",
   "execution_count": null,
   "metadata": {},
   "outputs": [],
   "source": [
    "for SNR_model in test_range:\n",
    "    BERs = testing.test_model(device, dir, model_idx=2, SNR_model=SNR_model)"
   ]
  },
  {
   "cell_type": "markdown",
   "metadata": {},
   "source": [
    "## Draw"
   ]
  },
  {
   "cell_type": "code",
   "execution_count": null,
   "metadata": {},
   "outputs": [],
   "source": [
    "test_range = range(2,3)"
   ]
  },
  {
   "cell_type": "code",
   "execution_count": null,
   "metadata": {},
   "outputs": [],
   "source": [
    "import matplotlib.pyplot as plt\n",
    "import pickle\n",
    "from config import config\n",
    "import utils"
   ]
  },
  {
   "cell_type": "code",
   "execution_count": null,
   "metadata": {},
   "outputs": [],
   "source": [
    "BERss_CNN = []\n",
    "for SNR_model in test_range:\n",
    "    rec_path = f\"{dir}/records/test/CNN_{SNR_model}dB.pkl\"\n",
    "    with open(rec_path, 'rb') as f:\n",
    "        BERs = pickle.load(f)\n",
    "        print(BERs)\n",
    "        BERss_CNN.append(BERs)\n",
    "\n",
    "BERss_cALCNN = []\n",
    "for SNR_model in test_range:\n",
    "    rec_path = f\"{dir}/records/test/cALCNN_{SNR_model}dB.pkl\"\n",
    "    with open(rec_path, 'rb') as f:\n",
    "        BERs = pickle.load(f)\n",
    "        print(BERs)\n",
    "        BERss_cALCNN.append(BERs)\n",
    "\n",
    "BERss_cCNN_cat = []\n",
    "for SNR_model in test_range:\n",
    "    rec_path = f\"{dir}/records/test/cCNN_cat_ft_{SNR_model}dB.pkl\"\n",
    "    with open(rec_path, 'rb') as f:\n",
    "        BERs = pickle.load(f)\n",
    "        print(BERs)\n",
    "        BERss_cCNN_cat.append(BERs)\n"
   ]
  },
  {
   "cell_type": "code",
   "execution_count": null,
   "metadata": {},
   "outputs": [],
   "source": [
    "\n",
    "snr_db =       [1.0,    2.0,    3.0,    4.0,    5.0,    6.0,    7.0,    8.0,    9.0,    10.0]\n",
    "uncoded =      [4.7e-2, 3.1e-2, 2.2e-2, 1.3e-2, 7.0e-3, 2.9e-3, 1.0e-3, 2.2e-4, 3.3e-5, 5.0e-6]\n",
    "\n",
    "plt.figure(figsize=(8, 6))\n",
    "plt.semilogy(snr_db, uncoded, 'o-', label='uncoded')\n",
    "\n",
    "plt.semilogy(snr_db, BERss_CNN[0], '-', color='red'   , label='CNN_2dB')\n",
    "# plt.semilogy(snr_db, BERss_CNN[1], '-', color='orange', label='CNN_3dB')\n",
    "# plt.semilogy(snr_db, BERss_CNN[2], '-', color='cyan'  , label='CNN_4dB')\n",
    "# plt.semilogy(snr_db, BERss_CNN[3], '-', color='green' , label='CNN_5dB')\n",
    "# plt.semilogy(snr_db, BERss_CNN[4], '-', color='blue'  , label='CNN_6dB')\n",
    "# plt.semilogy(snr_db, BERss_CNN[5], '-', color='purple', label='CNN_7dB')\n",
    "\n",
    "plt.semilogy(snr_db, BERss_cALCNN[0], '--', color='red'   , label='cCNN_AL_2dB')\n",
    "# plt.semilogy(snr_db, BERss_cALCNN[1], '--', color='orange', label='cCNN_AL_3dB')\n",
    "# plt.semilogy(snr_db, BERss_cALCNN[2], '--', color='cyan'  , label='cCNN_AL_4dB')\n",
    "# plt.semilogy(snr_db, BERss_cALCNN[3], '--', color='green' , label='cCNN_AL_5dB')\n",
    "# plt.semilogy(snr_db, BERss_cALCNN[4], '--', color='blue'  , label='cCNN_AL_6dB')\n",
    "# plt.semilogy(snr_db, BERss_cALCNN[5], '--', color='purple', label='cCNN_AL_7dB')\n",
    "\n",
    "plt.xlabel('SNR (dB)', fontsize=14)\n",
    "plt.ylabel('BER', fontsize=14)\n",
    "plt.title('BER Performance', fontsize=16)\n",
    "plt.legend(fontsize=12)\n",
    "plt.grid(True)\n",
    "plt.show()"
   ]
  },
  {
   "cell_type": "code",
   "execution_count": null,
   "metadata": {},
   "outputs": [],
   "source": [
    "\n",
    "snr_db =       [1.0,    2.0,    3.0,    4.0,    5.0,    6.0,    7.0,    8.0,    9.0,    10.0]\n",
    "uncoded =      [4.7e-2, 3.1e-2, 2.2e-2, 1.3e-2, 7.0e-3, 2.9e-3, 1.0e-3, 2.2e-4, 3.3e-5, 5.0e-6]\n",
    "\n",
    "plt.figure(figsize=(8, 6))\n",
    "plt.semilogy(snr_db, uncoded, 'o-', label='uncoded')\n",
    "\n",
    "plt.semilogy(snr_db, BERss_CNN[0], '-', color='red'   , label='CNN_2dB')\n",
    "# plt.semilogy(snr_db, BERss_CNN[1], '-', color='orange', label='CNN_3dB')\n",
    "# plt.semilogy(snr_db, BERss_CNN[2], '-', color='cyan'  , label='CNN_4dB')\n",
    "# plt.semilogy(snr_db, BERss_CNN[3], '-', color='green' , label='CNN_5dB')\n",
    "# plt.semilogy(snr_db, BERss_CNN[4], '-', color='blue'  , label='CNN_6dB')\n",
    "# plt.semilogy(snr_db, BERss_CNN[5], '-', color='purple', label='CNN_7dB')\n",
    "\n",
    "plt.semilogy(snr_db, BERss_cCNN_cat[0], '--', color='red'   , label='cCNN_cat_ft_2dB')\n",
    "# plt.semilogy(snr_db, BERss_cCNN_cat[1], '--', color='orange', label='cCNN_cat_ft_3dB')\n",
    "# plt.semilogy(snr_db, BERss_cCNN_cat[2], '--', color='cyan'  , label='cCNN_cat_ft_4dB')\n",
    "# plt.semilogy(snr_db, BERss_cCNN_cat[3], '--', color='green' , label='cCNN_cat_ft_5dB')\n",
    "# plt.semilogy(snr_db, BERss_cCNN_cat[4], '--', color='blue'  , label='cCNN_cat_ft_6dB')\n",
    "# plt.semilogy(snr_db, BERss_cCNN_cat[5], '--', color='purple', label='cCNN_cat_ft_7dB')\n",
    "\n",
    "plt.xlabel('SNR (dB)', fontsize=14)\n",
    "plt.ylabel('BER', fontsize=14)\n",
    "plt.title('BER Performance', fontsize=16)\n",
    "plt.legend(fontsize=12)\n",
    "plt.grid(True)\n",
    "plt.show()"
   ]
  }
 ],
 "metadata": {
  "kernelspec": {
   "display_name": "viterbi",
   "language": "python",
   "name": "python3"
  },
  "language_info": {
   "codemirror_mode": {
    "name": "ipython",
    "version": 3
   },
   "file_extension": ".py",
   "mimetype": "text/x-python",
   "name": "python",
   "nbconvert_exporter": "python",
   "pygments_lexer": "ipython3",
   "version": "3.10.13"
  }
 },
 "nbformat": 4,
 "nbformat_minor": 2
}
