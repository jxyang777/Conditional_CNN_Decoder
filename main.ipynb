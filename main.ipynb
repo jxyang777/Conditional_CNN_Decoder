{
 "cells": [
  {
   "cell_type": "markdown",
   "metadata": {},
   "source": [
    "## Import Package"
   ]
  },
  {
   "cell_type": "code",
   "execution_count": null,
   "metadata": {},
   "outputs": [],
   "source": [
    "%load_ext autoreload\n",
    "%autoreload 2\n",
    "\n",
    "import torch\n",
    "import shutil\n",
    "import os\n",
    "import pickle\n",
    "import matplotlib.pyplot as plt\n",
    "# from config import config\n",
    "\n",
    "import utils\n",
    "import training\n",
    "import testing\n",
    "import model as md\n",
    "import dataset as ds"
   ]
  },
  {
   "cell_type": "markdown",
   "metadata": {},
   "source": [
    "## Parameter"
   ]
  },
  {
   "cell_type": "code",
   "execution_count": null,
   "metadata": {},
   "outputs": [],
   "source": [
    "device = torch.device(\"cuda\" if torch.cuda.is_available() else \"cpu\")\n",
    "\"cuda\" if torch.cuda.is_available() else \"cpu\"\n",
    "\n",
    "code_names = ['code_1', 'code_2', 'code_3', 'code_4', 'code_mix']\n",
    "train_code = code_names[4]\n",
    "dir_name = 'ep500_dp01_2000_SNR2-7_FM150_GS05'\n",
    "result_dir, config = utils.create_rec_dir(dir_name)\n",
    "\n",
    "\n",
    "train_range = range(2,8)\n",
    "# train_range = [2]\n",
    "test_range = range(1,11)"
   ]
  },
  {
   "cell_type": "code",
   "execution_count": null,
   "metadata": {},
   "outputs": [],
   "source": [
    "print(f\"Decoder\")\n",
    "print(f\"Output_channels: {config['decoder']['output_channels']}\")\n",
    "print(f\"Layer 1: {config['decoder']['layer_1']}\")\n",
    "print(f\"Layer 2: {config['decoder']['layer_2']}\")\n",
    "print(f\"Dropout rate: {config['decoder']['dropout']} \\n\")\n",
    "\n",
    "print(\"Classifier\")\n",
    "print(f\"Output_channels: {config['classifier']['output_channels']}\")\n",
    "print(f\"Layer 1: {config['classifier']['layer_1']}\")\n",
    "print(f\"Layer 2: {config['classifier']['layer_2']}\")\n",
    "print(f\"Dropout rate: {config['classifier']['dropout']} \\n\")\n",
    "\n",
    "print(\"Joint Decoder\")\n",
    "print(f\"Output_channels: {config['joint_decoder']['output_channels']}\")\n",
    "print(f\"Layer 1: {config['joint_decoder']['layer_1']}\")\n",
    "print(f\"Layer 2: {config['joint_decoder']['layer_2']}\")\n",
    "print(f\"Dropout rate: {config['joint_decoder']['dropout']} \\n\")\n",
    "\n",
    "print(\"Joint Classifier\")\n",
    "print(f\"Output_channels: {config['joint_classifier']['output_channels']}\")\n",
    "print(f\"Layer 1: {config['joint_classifier']['layer_1']}\")\n",
    "print(f\"Layer 2: {config['joint_classifier']['layer_2']}\")\n",
    "print(f\"Dropout rate: {config['joint_classifier']['dropout']} \\n\")"
   ]
  },
  {
   "cell_type": "markdown",
   "metadata": {},
   "source": [
    "## Train CNN (Baseline)"
   ]
  },
  {
   "cell_type": "code",
   "execution_count": null,
   "metadata": {},
   "outputs": [],
   "source": [
    "for SNR_model in train_range:\n",
    "    print(f\"Train CNN Model with SNR = {SNR_model} dB\")\n",
    "    training.train_model(device, config, result_dir, code_name=train_code, SNR=SNR_model, model_idx=3)"
   ]
  },
  {
   "cell_type": "markdown",
   "metadata": {},
   "source": [
    "## Train CCNN Joint"
   ]
  },
  {
   "cell_type": "code",
   "execution_count": null,
   "metadata": {},
   "outputs": [],
   "source": [
    "for SNR_model in train_range:\n",
    "    print(f\"Train CNN Model with SNR = {SNR_model} dB\")\n",
    "    training.train_model(device, config, result_dir, code_name=train_code, SNR=SNR_model, model_idx=6)"
   ]
  },
  {
   "cell_type": "markdown",
   "metadata": {},
   "source": [
    "## Train CCNN Joint 2 \n",
    "Using the same one conv for both Decoder and Classifier"
   ]
  },
  {
   "cell_type": "code",
   "execution_count": null,
   "metadata": {},
   "outputs": [],
   "source": [
    "for SNR_model in train_range:\n",
    "    print(f\"Train CNN Model with SNR = {SNR_model} dB\")\n",
    "    training.train_model(device, config, result_dir, code_name=train_code, SNR=SNR_model, model_idx=8)"
   ]
  },
  {
   "cell_type": "markdown",
   "metadata": {},
   "source": [
    "## Train CCNN Joint Gumbel"
   ]
  },
  {
   "cell_type": "code",
   "execution_count": null,
   "metadata": {},
   "outputs": [],
   "source": [
    "for SNR_model in train_range:\n",
    "    print(f\"Train CNN Model with SNR = {SNR_model} dB\")\n",
    "    training.train_model(device, config, result_dir, code_name=train_code, SNR=SNR_model, model_idx=7)"
   ]
  },
  {
   "cell_type": "markdown",
   "metadata": {},
   "source": [
    "## Train CCNN Joint Gumbel 2\n",
    "Using gumbel soft output as conditional input"
   ]
  },
  {
   "cell_type": "code",
   "execution_count": null,
   "metadata": {},
   "outputs": [],
   "source": [
    "for SNR_model in train_range:\n",
    "    print(f\"Train CCNN Joint Gumbel 2 Model with SNR = {SNR_model} dB\")\n",
    "    training.train_model(device, config, result_dir, code_name=train_code, SNR=SNR_model, model_idx=9)"
   ]
  },
  {
   "cell_type": "markdown",
   "metadata": {},
   "source": [
    "## Train CCNN Independent (True)"
   ]
  },
  {
   "cell_type": "code",
   "execution_count": null,
   "metadata": {},
   "outputs": [],
   "source": [
    "for SNR_model in train_range:\n",
    "    print(f\"Train CNN Model with SNR = {SNR_model} dB\")\n",
    "    training.train_model(device, config, result_dir, code_name=train_code, SNR=SNR_model, model_idx=5)"
   ]
  },
  {
   "cell_type": "markdown",
   "metadata": {},
   "source": [
    "## Test CNN (Baseline)"
   ]
  },
  {
   "cell_type": "code",
   "execution_count": null,
   "metadata": {},
   "outputs": [],
   "source": [
    "for code_name in code_names:\n",
    "    for SNR_model in train_range:\n",
    "        BERs = testing.test_model(device, config, result_dir, code_name=code_name, model_idx=3, SNR_model=SNR_model, test_range=test_range)"
   ]
  },
  {
   "cell_type": "markdown",
   "metadata": {},
   "source": [
    "## Test CCNN Joint"
   ]
  },
  {
   "cell_type": "code",
   "execution_count": null,
   "metadata": {},
   "outputs": [],
   "source": [
    "for code_name in code_names:\n",
    "    for SNR_model in train_range:\n",
    "        BERs = testing.test_model(device, config, result_dir, code_name=code_name, model_idx=6, SNR_model=SNR_model, test_range=test_range)"
   ]
  },
  {
   "cell_type": "markdown",
   "metadata": {},
   "source": [
    "## Test CCNN Joint 2"
   ]
  },
  {
   "cell_type": "code",
   "execution_count": null,
   "metadata": {},
   "outputs": [],
   "source": [
    "for code_name in code_names:\n",
    "    for SNR_model in train_range:\n",
    "        BERs = testing.test_model(device, config, result_dir, code_name=code_name, model_idx=8, SNR_model=SNR_model, test_range=test_range)"
   ]
  },
  {
   "cell_type": "markdown",
   "metadata": {},
   "source": [
    "## Test CCNN Joint Gumbel"
   ]
  },
  {
   "cell_type": "code",
   "execution_count": null,
   "metadata": {},
   "outputs": [],
   "source": [
    "for code_name in code_names:\n",
    "    for SNR_model in train_range:\n",
    "        BERs = testing.test_model(device, config, result_dir, code_name=code_name, model_idx=7, SNR_model=SNR_model, test_range=test_range)"
   ]
  },
  {
   "cell_type": "markdown",
   "metadata": {},
   "source": [
    "## Test CCNN Joint Gumbel 2"
   ]
  },
  {
   "cell_type": "code",
   "execution_count": null,
   "metadata": {},
   "outputs": [],
   "source": [
    "for code_name in code_names:\n",
    "    for SNR_model in train_range:\n",
    "        BERs = testing.test_model(device, config, result_dir, code_name=code_name, model_idx=9, SNR_model=SNR_model, test_range=test_range)"
   ]
  },
  {
   "cell_type": "markdown",
   "metadata": {},
   "source": [
    "## Test CCNN Independent (True)"
   ]
  },
  {
   "cell_type": "code",
   "execution_count": null,
   "metadata": {},
   "outputs": [],
   "source": [
    "for code_name in code_names:\n",
    "    for SNR_model in train_range:\n",
    "        BERs = testing.test_model(device, config, result_dir, code_name=code_name, model_idx=5, SNR_model=SNR_model, test_range=test_range)"
   ]
  },
  {
   "cell_type": "markdown",
   "metadata": {},
   "source": [
    "## Train Classifier"
   ]
  },
  {
   "cell_type": "code",
   "execution_count": null,
   "metadata": {},
   "outputs": [],
   "source": [
    "for SNR_model in train_range:\n",
    "    print(f\"Train CNN Model with SNR = {SNR_model} dB\")\n",
    "    training.train_classifier(device, config, result_dir, code_name=train_code, SNR_model=SNR_model)"
   ]
  },
  {
   "cell_type": "markdown",
   "metadata": {},
   "source": [
    "## Test Classifier"
   ]
  },
  {
   "cell_type": "code",
   "execution_count": null,
   "metadata": {},
   "outputs": [],
   "source": [
    "for SNR_model in train_range:\n",
    "    for code_name in code_names:\n",
    "        print(f\"Test Classifier for {code_name}, SNR = {SNR_model} dB\")\n",
    "        ACCs = testing.test_classifier(device, config, result_dir, code_name, SNR_model, test_range)"
   ]
  },
  {
   "cell_type": "markdown",
   "metadata": {},
   "source": [
    "## Test CCNN_P"
   ]
  },
  {
   "cell_type": "code",
   "execution_count": null,
   "metadata": {},
   "outputs": [],
   "source": [
    "for code_name in code_names:\n",
    "    for SNR_model in train_range:\n",
    "        BERs, ACCs = testing.test_classifier_decoder(device, config, result_dir, code_name, 5, SNR_model, test_range)"
   ]
  }
 ],
 "metadata": {
  "kernelspec": {
   "display_name": "CNN_Decoder",
   "language": "python",
   "name": "python3"
  },
  "language_info": {
   "codemirror_mode": {
    "name": "ipython",
    "version": 3
   },
   "file_extension": ".py",
   "mimetype": "text/x-python",
   "name": "python",
   "nbconvert_exporter": "python",
   "pygments_lexer": "ipython3",
   "version": "3.11.9"
  }
 },
 "nbformat": 4,
 "nbformat_minor": 2
}
